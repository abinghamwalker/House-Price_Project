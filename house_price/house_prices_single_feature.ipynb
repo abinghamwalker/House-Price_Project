{
 "cells": [
  {
   "cell_type": "markdown",
   "metadata": {},
   "source": [
    "# London House Price Data Machine Learning Project  "
   ]
  },
  {
   "cell_type": "markdown",
   "metadata": {},
   "source": [
    "The point of this notebook is to expand on my supervised machine learning regression into a Kaggle dataset.\n",
    "\n"
   ]
  },
  {
   "cell_type": "markdown",
   "metadata": {},
   "source": [
    "## Import packages\n",
    "\n",
    "The first thing that I need to do is import all of the relevant packages that I will need to complete this problem."
   ]
  },
  {
   "cell_type": "code",
   "execution_count": 2,
   "metadata": {},
   "outputs": [],
   "source": [
    "import numpy as np\n",
    "import pandas as pd\n",
    "import matplotlib.pyplot as plt\n",
    "from utils import *\n",
    "from sklearn.model_selection import train_test_split\n",
    "import copy\n",
    "import math\n",
    "%matplotlib inline\n"
   ]
  },
  {
   "cell_type": "markdown",
   "metadata": {},
   "source": [
    "# Define the problem\n",
    "\n",
    "Firstly I want to import, get brief descriptions about it and try to make sure that there is not any garbage"
   ]
  },
  {
   "cell_type": "code",
   "execution_count": 3,
   "metadata": {},
   "outputs": [
    {
     "name": "stdout",
     "output_type": "stream",
     "text": [
      "   Unnamed: 0  Property Name    Price        House Type  Area in sq ft  \\\n",
      "0           0    Queens Road  1675000             House           2716   \n",
      "1           1  Seward Street   650000  Flat / Apartment            814   \n",
      "2           2    Hotham Road   735000  Flat / Apartment            761   \n",
      "3           3   Festing Road  1765000             House           1986   \n",
      "4           4   Spencer Walk   675000  Flat / Apartment            700   \n",
      "\n",
      "   No. of Bedrooms  No. of Bathrooms  No. of Receptions     Location  \\\n",
      "0                5                 5                  5    Wimbledon   \n",
      "1                2                 2                  2  Clerkenwell   \n",
      "2                2                 2                  2       Putney   \n",
      "3                4                 4                  4       Putney   \n",
      "4                2                 2                  2       Putney   \n",
      "\n",
      "  City/County Postal Code  \n",
      "0      London    SW19 8NY  \n",
      "1      London    EC1V 3PA  \n",
      "2      London    SW15 1QL  \n",
      "3      London    SW15 1LP  \n",
      "4      London    SW15 1PL  \n",
      "        Unnamed: 0         Price  Area in sq ft  No. of Bedrooms  \\\n",
      "count  3480.000000  3.480000e+03    3480.000000      3480.000000   \n",
      "mean   1739.500000  1.864173e+06    1712.973563         3.103736   \n",
      "std    1004.733796  2.267283e+06    1364.259351         1.517698   \n",
      "min       0.000000  1.800000e+05     274.000000         0.000000   \n",
      "25%     869.750000  7.500000e+05     834.000000         2.000000   \n",
      "50%    1739.500000  1.220000e+06    1310.000000         3.000000   \n",
      "75%    2609.250000  2.150000e+06    2157.250000         4.000000   \n",
      "max    3479.000000  3.975000e+07   15405.000000        10.000000   \n",
      "\n",
      "       No. of Bathrooms  No. of Receptions  \n",
      "count       3480.000000        3480.000000  \n",
      "mean           3.103736           3.103736  \n",
      "std            1.517698           1.517698  \n",
      "min            0.000000           0.000000  \n",
      "25%            2.000000           2.000000  \n",
      "50%            3.000000           3.000000  \n",
      "75%            4.000000           4.000000  \n",
      "max           10.000000          10.000000  \n"
     ]
    }
   ],
   "source": [
    "prices_raw = pd.read_csv('London.csv')\n",
    "print(prices_raw.head())\n",
    "print(prices_raw.describe())"
   ]
  },
  {
   "cell_type": "markdown",
   "metadata": {},
   "source": [
    "I am looking to focus initially on a price prediction model that focusses only on one variable.  Therefore, for my first pass at the data I will drop all columns except price and area, I am also scaling features so that they are of similar size."
   ]
  },
  {
   "cell_type": "code",
   "execution_count": 4,
   "metadata": {},
   "outputs": [
    {
     "name": "stdout",
     "output_type": "stream",
     "text": [
      "   Price  Area in sq ft\n",
      "0   1675           2716\n",
      "1    650            814\n",
      "2    735            761\n",
      "3   1765           1986\n",
      "4    675            700\n"
     ]
    }
   ],
   "source": [
    "price_area = prices_raw[['Price','Area in sq ft']]\n",
    "price_area.loc[:, 'Price'] = (price_area['Price'].div(1000).round(0))\n",
    "print(price_area.head())"
   ]
  },
  {
   "cell_type": "markdown",
   "metadata": {},
   "source": [
    "I will also trim it to use a random sample as training data and the other as a prediciton tool.  I could also later try to compare it to random samples from Rightmove.\n"
   ]
  },
  {
   "cell_type": "code",
   "execution_count": 5,
   "metadata": {},
   "outputs": [
    {
     "name": "stdout",
     "output_type": "stream",
     "text": [
      "              Price  Area in sq ft\n",
      "count   2784.000000    2784.000000\n",
      "mean    1870.980963    1738.101293\n",
      "std     2284.155010    1401.127419\n",
      "min      180.000000     274.000000\n",
      "25%      750.000000     840.000000\n",
      "50%     1225.000000    1328.000000\n",
      "75%     2150.000000    2194.000000\n",
      "max    39750.000000   15405.000000\n",
      "              Price  Area in sq ft\n",
      "count    696.000000     696.000000\n",
      "mean    1836.951149    1612.462644\n",
      "std     2199.890889    1201.239938\n",
      "min      250.000000     386.000000\n",
      "25%      725.000000     819.750000\n",
      "50%     1200.000000    1246.000000\n",
      "75%     2150.000000    1999.250000\n",
      "max    34000.000000   11716.000000\n"
     ]
    }
   ],
   "source": [
    "train, test = train_test_split(price_area,test_size= 0.8)\n",
    "print(test.describe())\n",
    "print(train.describe())"
   ]
  },
  {
   "cell_type": "code",
   "execution_count": 6,
   "metadata": {},
   "outputs": [
    {
     "name": "stdout",
     "output_type": "stream",
     "text": [
      "<class 'pandas.core.frame.DataFrame'>\n"
     ]
    }
   ],
   "source": [
    "print(type(train))"
   ]
  },
  {
   "cell_type": "markdown",
   "metadata": {},
   "source": [
    "I think I need to convert the data to numpy arrays"
   ]
  },
  {
   "cell_type": "code",
   "execution_count": 7,
   "metadata": {},
   "outputs": [],
   "source": [
    "x_train = train['Area in sq ft'].to_numpy()\n",
    "y_train = train['Price'].to_numpy()"
   ]
  },
  {
   "cell_type": "code",
   "execution_count": 8,
   "metadata": {},
   "outputs": [
    {
     "data": {
      "image/png": "[encoded data removed]",
      "text/plain": [
       "<Figure size 640x480 with 1 Axes>"
      ]
     },
     "metadata": {},
     "output_type": "display_data"
    }
   ],
   "source": [
    "plt.scatter(x_train,y_train,marker = 'x', c='r')\n",
    "plt.title('Distribution of London House Prices')\n",
    "plt.ylabel('Prices of properties in million GBP')\n",
    "plt.xlabel('Area of property in sq ft')\n",
    "plt.show()"
   ]
  },
  {
   "cell_type": "code",
   "execution_count": 9,
   "metadata": {},
   "outputs": [],
   "source": [
    "def compute_cost_funtion(x, y, w, b): \n",
    "\n",
    "    m = x.shape[0] \n",
    "    \n",
    "    total_cost = 0\n",
    "    \n",
    "    cost_sum = 0\n",
    "    \n",
    "    for i in range(m):\n",
    "        f_wb = w * x[i] + b\n",
    "        cost = (f_wb - y[i]) ** 2\n",
    "        cost_sum += cost\n",
    "        \n",
    "    total_cost = cost_sum / ( 2 * m)\n",
    "    \n",
    "    return total_cost"
   ]
  },
  {
   "cell_type": "code",
   "execution_count": 10,
   "metadata": {},
   "outputs": [
    {
     "name": "stdout",
     "output_type": "stream",
     "text": [
      "<class 'numpy.float64'>\n",
      "Cost at initial w: 1496255.8333333333\n"
     ]
    }
   ],
   "source": [
    "# Compute cost with some initial values for paramaters w, b\n",
    "initial_w = 1\n",
    "\n",
    "initial_b = 1\n",
    "\n",
    "cost = compute_cost_funtion(x_train, y_train, initial_w, initial_b)\n",
    "print(type(cost))\n",
    "print(f'Cost at initial w: {cost}')"
   ]
  },
  {
   "cell_type": "code",
   "execution_count": 11,
   "metadata": {},
   "outputs": [],
   "source": [
    "def compute_gradient_descent(x, y, w, b): \n",
    "\n",
    "    m = x.shape[0]\n",
    "    \n",
    "    dj_dw = 0\n",
    "    dj_db = 0\n",
    "    \n",
    "    for i in range(m):\n",
    "        f_wb = w * x[i] + b\n",
    "        \n",
    "        dj_dw_i = (f_wb - y[i]) * x[i]\n",
    "        \n",
    "        dj_db_i = f_wb - y[i]\n",
    "        \n",
    "        dj_db += dj_db_i\n",
    "        \n",
    "        dj_dw += dj_dw_i\n",
    "    \n",
    "    \n",
    "    dj_dw = dj_dw / m\n",
    "    dj_db = dj_db / m\n",
    "         \n",
    "        \n",
    "    return dj_dw, dj_db"
   ]
  },
  {
   "cell_type": "code",
   "execution_count": 12,
   "metadata": {},
   "outputs": [
    {
     "name": "stdout",
     "output_type": "stream",
     "text": [
      "Gradient at initial w, b (zeros): -4627468.198275862 -1836.9511494252874\n"
     ]
    }
   ],
   "source": [
    "#testing with zero variables\n",
    "\n",
    "initial_w = 0\n",
    "initial_b = 0\n",
    "\n",
    "tmp_dj_dw, tmp_dj_db = compute_gradient_descent(x_train, y_train, initial_w, initial_b)\n",
    "print('Gradient at initial w, b (zeros):', tmp_dj_dw, tmp_dj_db)"
   ]
  },
  {
   "cell_type": "code",
   "execution_count": 13,
   "metadata": {},
   "outputs": [],
   "source": [
    "def gradient_descent(x, y, w_in, b_in, cost_function, gradient_function, alpha, num_iters): \n",
    "    m = len(x)\n",
    "    \n",
    "    J_history = []\n",
    "    w_history = []\n",
    "    w = copy.deepcopy(w_in) \n",
    "    b = b_in\n",
    "    \n",
    "    for i in range(num_iters):\n",
    "\n",
    "        # Calculate the gradient and update the parameters\n",
    "        dj_dw, dj_db = gradient_function(x, y, w, b )  \n",
    "\n",
    "        # Update Parameters using w, b, alpha and gradient\n",
    "        w = w - alpha * dj_dw               \n",
    "        b = b - alpha * dj_db               \n",
    "\n",
    "        # Save cost J at each iteration\n",
    "        if i<100000:      # prevent resource exhaustion \n",
    "            cost =  cost_function(x, y, w, b)\n",
    "            J_history.append(cost)\n",
    "\n",
    "        # Print cost every at intervals 10 times or as many iterations if < 10\n",
    "        if i% math.ceil(num_iters/10) == 0:\n",
    "            w_history.append(w)\n",
    "            print(f\"Iteration {i:4}: Cost {float(J_history[-1]):8.2f}   \")\n",
    "        \n",
    "    return w, b, J_history, w_history #return w and J,w history for graphing"
   ]
  },
  {
   "cell_type": "code",
   "execution_count": 14,
   "metadata": {},
   "outputs": [
    {
     "name": "stdout",
     "output_type": "stream",
     "text": [
      "Iteration    0: Cost 43243860931850.64   \n",
      "Iteration    4: Cost 3068486770515177761357290392598606145126400.00   \n",
      "Iteration    8: Cost 217732902994711531839384329033925820559060605776665272040141389402472448.00   \n",
      "Iteration   12: Cost 15449835893718109118805773522916939025338283041755596022275446747615668771470714043394675517027254272.00   \n",
      "Iteration   16: Cost 1096285521663292541099090163524160053465223016856474603816435307381094504008384048648271577150563211921368535584986648954106019840.00   \n",
      "Iteration   20: Cost 77789948920895976946983927143386587580892933747178365318625418699077698659049276799172027207157992720660665227230828985414269143317188164716606181771134894080.00   \n",
      "Iteration   24: Cost 5519799389427839460496681005569642356190170134513288198292495596941244118288127095311299583972870060030868073212701335431189475765042511547446951866001977776461775615483310163799928995840.00   \n",
      "Iteration   28: Cost 391672519678743335665871387092356305343836322544165658859617857386972764594765237680419451668281624191954781806778684074645014833663881197864303499760563645918605826518466200040511601130543960039949563462554411335680.00   \n",
      "Iteration   32: Cost 27792198927612975655049734752977860097720181901436485167410701262764586873841844974102676138914299513263775536691968554906866742762283073073738729847728087125953705870904841243549997089656638746105172135974158788633741678403340860002141049192448.00   \n",
      "w,b found by gradient descent: 1.1728303249182939e+119 4.679963794290958e+115\n"
     ]
    }
   ],
   "source": [
    "initial_w = 0\n",
    "initial_b = 0\n",
    "\n",
    "iterations =33\n",
    "alpha = 0.001\n",
    "\n",
    "w,b,_,_ = gradient_descent(x_train ,y_train, initial_w, initial_b, \n",
    "                     compute_cost_funtion, compute_gradient_descent, alpha, iterations)\n",
    "print(\"w,b found by gradient descent:\", w, b)"
   ]
  },
  {
   "cell_type": "markdown",
   "metadata": {},
   "source": [
    "Cost is increasing with each iteration so learning changes need to be made.\n"
   ]
  },
  {
   "cell_type": "code",
   "execution_count": 15,
   "metadata": {},
   "outputs": [
    {
     "name": "stdout",
     "output_type": "stream",
     "text": [
      "Iteration    0: Cost 25955283.05   \n",
      "Iteration   10: Cost 112033783138833280.00   \n",
      "Iteration   20: Cost 512280285801560749144801280.00   \n",
      "Iteration   30: Cost 2342428184355140814227728786719244288.00   \n",
      "Iteration   40: Cost 10710874400087309829732832998314743677491085312.00   \n",
      "Iteration   50: Cost 48976028883475876901664188399048078896625356212719845376.00   \n",
      "Iteration   60: Cost 223945432986824794654504952133004360117515539201918701969669619712.00   \n",
      "Iteration   70: Cost 1024002110807669695550380741017618098850322160947226827197015552968441724928.00   \n",
      "Iteration   80: Cost 4682302777749595216244268339072540224596001089274335189844481409619449877869612761088.00   \n",
      "Iteration   90: Cost 21410072373024508868589934416823973052628994991732585685803041332779697083301977460574424924160.00   \n",
      "w,b found by gradient descent: -2.2890442504273227e+48 -9.134010255299342e+44\n"
     ]
    }
   ],
   "source": [
    "initial_w = 0\n",
    "initial_b = 0\n",
    "\n",
    "iterations =100\n",
    "alpha = 1e-6\n",
    "\n",
    "w,b,_,_ = gradient_descent(x_train ,y_train, initial_w, initial_b, \n",
    "                     compute_cost_funtion, compute_gradient_descent, alpha, iterations)\n",
    "print(\"w,b found by gradient descent:\", w, b)"
   ]
  },
  {
   "cell_type": "code",
   "execution_count": 16,
   "metadata": {},
   "outputs": [
    {
     "name": "stdout",
     "output_type": "stream",
     "text": [
      "Iteration    0: Cost 4101337.15   \n",
      "Iteration  500: Cost 3221139.78   \n",
      "Iteration 1000: Cost 2633584.44   \n",
      "Iteration 1500: Cost 2241375.50   \n",
      "Iteration 2000: Cost 1979565.52   \n",
      "Iteration 2500: Cost 1804800.34   \n",
      "Iteration 3000: Cost 1688139.89   \n",
      "Iteration 3500: Cost 1610265.92   \n",
      "Iteration 4000: Cost 1558282.95   \n",
      "Iteration 4500: Cost 1523582.93   \n",
      "w,b found by gradient descent: 0.9933698120440476 0.00039160848041997534\n"
     ]
    }
   ],
   "source": [
    "initial_w = 0\n",
    "initial_b = 0\n",
    "\n",
    "iterations =5000\n",
    "alpha = 1e-10\n",
    "\n",
    "w,b,_,_ = gradient_descent(x_train ,y_train, initial_w, initial_b, \n",
    "                     compute_cost_funtion, compute_gradient_descent, alpha, iterations)\n",
    "print(\"w,b found by gradient descent:\", w, b)"
   ]
  },
  {
   "cell_type": "markdown",
   "metadata": {},
   "source": [
    "I am happy that I have found a learning rate which decreases over time, so now we experiment with iterations."
   ]
  },
  {
   "cell_type": "code",
   "execution_count": 17,
   "metadata": {},
   "outputs": [
    {
     "name": "stdout",
     "output_type": "stream",
     "text": [
      "Iteration    0: Cost 4101337.15   \n",
      "Iteration 5000: Cost 1500419.73   \n",
      "Iteration 10000: Cost 1454730.52   \n",
      "Iteration 15000: Cost 1453927.91   \n",
      "Iteration 20000: Cost 1453913.82   \n",
      "Iteration 25000: Cost 1453913.57   \n",
      "Iteration 30000: Cost 1453913.56   \n",
      "Iteration 35000: Cost 1453913.56   \n",
      "Iteration 40000: Cost 1453913.56   \n",
      "Iteration 45000: Cost 1453913.56   \n",
      "w,b found by gradient descent: 1.1451463312474057 0.00040917482291161705\n"
     ]
    }
   ],
   "source": [
    "initial_w = 0\n",
    "initial_b = 0\n",
    "\n",
    "iterations =50000\n",
    "alpha = 1e-10\n",
    "\n",
    "w,b,_,_ = gradient_descent(x_train ,y_train, initial_w, initial_b, \n",
    "                     compute_cost_funtion, compute_gradient_descent, alpha, iterations)\n",
    "print(\"w,b found by gradient descent:\", w, b)"
   ]
  },
  {
   "cell_type": "markdown",
   "metadata": {},
   "source": [
    "Clearly too many but optimisation.."
   ]
  },
  {
   "cell_type": "code",
   "execution_count": 18,
   "metadata": {},
   "outputs": [
    {
     "name": "stdout",
     "output_type": "stream",
     "text": [
      "Iteration    0: Cost 4101337.15   \n",
      "Iteration  200: Cost 3706134.12   \n",
      "Iteration  400: Cost 3369926.35   \n",
      "Iteration  600: Cost 3083907.12   \n",
      "Iteration  800: Cost 2840584.37   \n",
      "Iteration 1000: Cost 2633584.44   \n",
      "Iteration 1200: Cost 2457485.12   \n",
      "Iteration 1400: Cost 2307673.61   \n",
      "Iteration 1600: Cost 2180225.72   \n",
      "Iteration 1800: Cost 2071803.04   \n",
      "w,b found by gradient descent: 0.6348782301606131 0.00025142549357134184\n"
     ]
    }
   ],
   "source": [
    "initial_w = 0\n",
    "initial_b = 0\n",
    "\n",
    "iterations =2000\n",
    "alpha = 1e-10\n",
    "\n",
    "w,b,_,_ = gradient_descent(x_train ,y_train, initial_w, initial_b, \n",
    "                     compute_cost_funtion, compute_gradient_descent, alpha, iterations)\n",
    "print(\"w,b found by gradient descent:\", w, b)"
   ]
  },
  {
   "cell_type": "markdown",
   "metadata": {},
   "source": [
    "Looks like we have a solution of w = 0.64  and b = 0.0002.  I will now attempt to draw the line from this on top of the training dataset."
   ]
  },
  {
   "cell_type": "code",
   "execution_count": 19,
   "metadata": {},
   "outputs": [],
   "source": [
    "m = x_train.shape[0]\n",
    "predicted = np.zeros(m)\n",
    "\n",
    "for i in range(m):\n",
    "    predicted[i] = w * x_train[i] + b\n"
   ]
  },
  {
   "cell_type": "code",
   "execution_count": 20,
   "metadata": {},
   "outputs": [
    {
     "data": {
      "image/png": "[encoded data removed]",
      "text/plain": [
       "<Figure size 640x480 with 1 Axes>"
      ]
     },
     "metadata": {},
     "output_type": "display_data"
    }
   ],
   "source": [
    "plt.plot(x_train, predicted, c = \"b\")\n",
    "\n",
    "plt.scatter(x_train, y_train, marker='x', c='r') \n",
    "\n",
    "plt.title('Distribution of London House Prices')\n",
    "plt.ylabel('Prices of properties in million GBP')\n",
    "plt.xlabel('Area of property in sq ft')\n",
    "plt.show()\n"
   ]
  },
  {
   "cell_type": "markdown",
   "metadata": {},
   "source": [
    "Graph above looks like we have a believeable trend line based on the relationship of these two factors."
   ]
  },
  {
   "cell_type": "markdown",
   "metadata": {},
   "source": [
    "I will now try to test my values of w,b against the remainiing test data that I have so far not used.."
   ]
  },
  {
   "cell_type": "code",
   "execution_count": 21,
   "metadata": {},
   "outputs": [],
   "source": [
    "x_test = test['Area in sq ft'].to_numpy()\n",
    "y_test = test['Price'].to_numpy()"
   ]
  },
  {
   "cell_type": "code",
   "execution_count": 22,
   "metadata": {},
   "outputs": [
    {
     "name": "stdout",
     "output_type": "stream",
     "text": [
      "Model Summary Statistics:\n",
      "Number of examples: 2784\n",
      "Number of features: 1\n",
      "\n",
      "Prediction Statistics:\n",
      "Mean prediction: 1103.4829\n",
      "Median prediction: 843.1185\n",
      "Min prediction: 173.9569\n",
      "Max prediction: 9780.2994\n",
      "\n",
      "Error Metrics:\n",
      "Mean Squared Error (MSE): 3848170.2187\n",
      "Root Mean Squared Error (RMSE): 1961.6754\n",
      "Mean Absolute Error (MAE): 847.4345\n",
      "R-squared (R2) Score: 0.2622\n",
      "\n",
      "Error Statistics:\n",
      "Mean error: -767.4980\n",
      "Median error: -286.1387\n",
      "Min error: -36180.0795\n",
      "Max error: 3532.5464\n"
     ]
    }
   ],
   "source": [
    "\n",
    "def test_model(X, w, b, y=None):\n",
    "\n",
    "    X = X.reshape(-1, 1)\n",
    "    w = np.array([w])\n",
    "    m = X.shape[0]  # number of examples\n",
    "    \n",
    "    predictions = np.dot(X, w) + b\n",
    "    \n",
    "    print(\"Model Summary Statistics:\")\n",
    "    print(f\"Number of examples: {X.shape[0]}\")\n",
    "    print(f\"Number of features: {X.shape[1]}\")\n",
    "    \n",
    "    print(\"\\nPrediction Statistics:\")\n",
    "    print(f\"Mean prediction: {np.mean(predictions):.4f}\")\n",
    "    print(f\"Median prediction: {np.median(predictions):.4f}\")\n",
    "    print(f\"Min prediction: {np.min(predictions):.4f}\")\n",
    "    print(f\"Max prediction: {np.max(predictions):.4f}\")\n",
    "    \n",
    "    if y is not None:\n",
    "        errors = predictions - y\n",
    "        mse = np.mean(errors**2)\n",
    "        rmse = np.sqrt(mse)\n",
    "        mae = np.mean(np.abs(errors))\n",
    "        r2 = 1 - (np.sum(errors**2) / np.sum((y - np.mean(y))**2))\n",
    "        \n",
    "        print(\"\\nError Metrics:\")\n",
    "        print(f\"Mean Squared Error (MSE): {mse:.4f}\")\n",
    "        print(f\"Root Mean Squared Error (RMSE): {rmse:.4f}\")\n",
    "        print(f\"Mean Absolute Error (MAE): {mae:.4f}\")\n",
    "        print(f\"R-squared (R2) Score: {r2:.4f}\")\n",
    "        \n",
    "        print(\"\\nError Statistics:\")\n",
    "        print(f\"Mean error: {np.mean(errors):.4f}\")\n",
    "        print(f\"Median error: {np.median(errors):.4f}\")\n",
    "        print(f\"Min error: {np.min(errors):.4f}\")\n",
    "        print(f\"Max error: {np.max(errors):.4f}\")\n",
    "    \n",
    "    return predictions\n",
    "\n",
    "\n",
    "predictions = test_model(x_test, w, b, y_test)"
   ]
  },
  {
   "cell_type": "markdown",
   "metadata": {},
   "source": [
    "All of these error metrics show that this model is not very good at predicting house prices in London.  However, this is to be expected because the data is not going to be very well correlated given the fact some are flats, area diffences and potentially time differences between sold prices."
   ]
  },
  {
   "cell_type": "markdown",
   "metadata": {},
   "source": [
    "I think I will try to do the same analysis again but with more features and differential the data in some way before processing the regression."
   ]
  }
 ],
 "metadata": {
  "kernelspec": {
   "display_name": "Python 3",
   "language": "python",
   "name": "python3"
  },
  "language_info": {
   "codemirror_mode": {
    "name": "ipython",
    "version": 3
   },
   "file_extension": ".py",
   "mimetype": "text/x-python",
   "name": "python",
   "nbconvert_exporter": "python",
   "pygments_lexer": "ipython3",
   "version": "3.11.1"
  }
 },
 "nbformat": 4,
 "nbformat_minor": 2
}
