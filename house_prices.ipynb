{
 "cells": [
  {
   "cell_type": "markdown",
   "metadata": {},
   "source": [
    "# London House Price Data Machine Learning Project  "
   ]
  },
  {
   "cell_type": "markdown",
   "metadata": {},
   "source": [
    "The point of this notebook is to expand on my supervised machine learning regression into a Kaggle dataset.\n",
    "\n"
   ]
  },
  {
   "cell_type": "markdown",
   "metadata": {},
   "source": [
    "## Import packages\n",
    "\n",
    "The first thing that I need to do is import all of the relevant packages that I will need to complete this problem."
   ]
  },
  {
   "cell_type": "code",
   "execution_count": 49,
   "metadata": {},
   "outputs": [],
   "source": [
    "import numpy as np\n",
    "import pandas as pd\n",
    "import matplotlib.pyplot as plt\n",
    "from utils import *\n",
    "from sklearn.model_selection import train_test_split\n",
    "import copy\n",
    "import math\n",
    "%matplotlib inline\n"
   ]
  },
  {
   "cell_type": "markdown",
   "metadata": {},
   "source": [
    "# Define the problem\n",
    "\n",
    "Firstly I want to import, get brief descriptions about it and try to make sure that there is not any garbage"
   ]
  },
  {
   "cell_type": "code",
   "execution_count": 50,
   "metadata": {},
   "outputs": [
    {
     "name": "stdout",
     "output_type": "stream",
     "text": [
      "   Unnamed: 0  Property Name    Price        House Type  Area in sq ft  \\\n",
      "0           0    Queens Road  1675000             House           2716   \n",
      "1           1  Seward Street   650000  Flat / Apartment            814   \n",
      "2           2    Hotham Road   735000  Flat / Apartment            761   \n",
      "3           3   Festing Road  1765000             House           1986   \n",
      "4           4   Spencer Walk   675000  Flat / Apartment            700   \n",
      "\n",
      "   No. of Bedrooms  No. of Bathrooms  No. of Receptions     Location  \\\n",
      "0                5                 5                  5    Wimbledon   \n",
      "1                2                 2                  2  Clerkenwell   \n",
      "2                2                 2                  2       Putney   \n",
      "3                4                 4                  4       Putney   \n",
      "4                2                 2                  2       Putney   \n",
      "\n",
      "  City/County Postal Code  \n",
      "0      London    SW19 8NY  \n",
      "1      London    EC1V 3PA  \n",
      "2      London    SW15 1QL  \n",
      "3      London    SW15 1LP  \n",
      "4      London    SW15 1PL  \n",
      "        Unnamed: 0         Price  Area in sq ft  No. of Bedrooms  \\\n",
      "count  3480.000000  3.480000e+03    3480.000000      3480.000000   \n",
      "mean   1739.500000  1.864173e+06    1712.973563         3.103736   \n",
      "std    1004.733796  2.267283e+06    1364.259351         1.517698   \n",
      "min       0.000000  1.800000e+05     274.000000         0.000000   \n",
      "25%     869.750000  7.500000e+05     834.000000         2.000000   \n",
      "50%    1739.500000  1.220000e+06    1310.000000         3.000000   \n",
      "75%    2609.250000  2.150000e+06    2157.250000         4.000000   \n",
      "max    3479.000000  3.975000e+07   15405.000000        10.000000   \n",
      "\n",
      "       No. of Bathrooms  No. of Receptions  \n",
      "count       3480.000000        3480.000000  \n",
      "mean           3.103736           3.103736  \n",
      "std            1.517698           1.517698  \n",
      "min            0.000000           0.000000  \n",
      "25%            2.000000           2.000000  \n",
      "50%            3.000000           3.000000  \n",
      "75%            4.000000           4.000000  \n",
      "max           10.000000          10.000000  \n"
     ]
    }
   ],
   "source": [
    "prices_raw = pd.read_csv('London.csv')\n",
    "print(prices_raw.head())\n",
    "print(prices_raw.describe())"
   ]
  },
  {
   "cell_type": "markdown",
   "metadata": {},
   "source": [
    "I am looking to focus initially on a price prediction model that focusses only on one variable.  Therefore, for my first pass at the data I will drop all columns except price and area, I am also scaling features so that they are of similar size."
   ]
  },
  {
   "cell_type": "code",
   "execution_count": 51,
   "metadata": {},
   "outputs": [
    {
     "name": "stdout",
     "output_type": "stream",
     "text": [
      "   Price  Area in sq ft\n",
      "0   1675           2716\n",
      "1    650            814\n",
      "2    735            761\n",
      "3   1765           1986\n",
      "4    675            700\n"
     ]
    }
   ],
   "source": [
    "price_area = prices_raw[['Price','Area in sq ft']]\n",
    "price_area.loc[:, 'Price'] = (price_area['Price'].div(1000).round(0))\n",
    "print(price_area.head())"
   ]
  },
  {
   "cell_type": "markdown",
   "metadata": {},
   "source": [
    "I will also trim it to use a random sample as training data and the other as a prediciton tool.  I could also later try to compare it to random samples from Rightmove.\n"
   ]
  },
  {
   "cell_type": "code",
   "execution_count": 52,
   "metadata": {},
   "outputs": [
    {
     "name": "stdout",
     "output_type": "stream",
     "text": [
      "              Price  Area in sq ft\n",
      "count   2784.000000    2784.000000\n",
      "mean    1844.632902    1700.001796\n",
      "std     2173.856221    1357.433405\n",
      "min      180.000000     292.000000\n",
      "25%      738.750000     836.000000\n",
      "50%     1200.000000    1295.000000\n",
      "75%     2150.000000    2140.500000\n",
      "max    34000.000000   15405.000000\n",
      "              Price  Area in sq ft\n",
      "count    696.000000     696.000000\n",
      "mean    1942.343391    1764.860632\n",
      "std     2608.021145    1391.008305\n",
      "min      250.000000     274.000000\n",
      "25%      770.250000     831.500000\n",
      "50%     1285.000000    1388.000000\n",
      "75%     2150.000000    2266.250000\n",
      "max    39750.000000   12546.000000\n"
     ]
    }
   ],
   "source": [
    "train, test = train_test_split(price_area,test_size= 0.8)\n",
    "print(test.describe())\n",
    "print(train.describe())"
   ]
  },
  {
   "cell_type": "code",
   "execution_count": 53,
   "metadata": {},
   "outputs": [
    {
     "name": "stdout",
     "output_type": "stream",
     "text": [
      "<class 'pandas.core.frame.DataFrame'>\n"
     ]
    }
   ],
   "source": [
    "print(type(train))"
   ]
  },
  {
   "cell_type": "markdown",
   "metadata": {},
   "source": [
    "I think I need to convert the data to numpy arrays"
   ]
  },
  {
   "cell_type": "code",
   "execution_count": 54,
   "metadata": {},
   "outputs": [],
   "source": [
    "x_train = train['Area in sq ft'].to_numpy()\n",
    "y_train = train['Price'].to_numpy()"
   ]
  },
  {
   "cell_type": "code",
   "execution_count": 55,
   "metadata": {},
   "outputs": [
    {
     "data": {
      "image/png": "[encoded data removed]",
      "text/plain": [
       "<Figure size 640x480 with 1 Axes>"
      ]
     },
     "metadata": {},
     "output_type": "display_data"
    }
   ],
   "source": [
    "plt.scatter(x_train,y_train,marker = 'x', c='r')\n",
    "plt.title('Distribution of London House Prices')\n",
    "plt.ylabel('Prices of properties in million GBP')\n",
    "plt.xlabel('Area of property in sq ft')\n",
    "plt.show()"
   ]
  },
  {
   "cell_type": "code",
   "execution_count": 56,
   "metadata": {},
   "outputs": [],
   "source": [
    "def compute_cost_funtion(x, y, w, b): \n",
    "\n",
    "    m = x.shape[0] \n",
    "    \n",
    "    total_cost = 0\n",
    "    \n",
    "    cost_sum = 0\n",
    "    \n",
    "    for i in range(m):\n",
    "        f_wb = w * x[i] + b\n",
    "        cost = (f_wb - y[i]) ** 2\n",
    "        cost_sum += cost\n",
    "        \n",
    "    total_cost = cost_sum / ( 2 * m)\n",
    "    \n",
    "    return total_cost"
   ]
  },
  {
   "cell_type": "code",
   "execution_count": 57,
   "metadata": {},
   "outputs": [
    {
     "name": "stdout",
     "output_type": "stream",
     "text": [
      "<class 'numpy.float64'>\n",
      "Cost at initial w: 2176545.9985632184\n"
     ]
    }
   ],
   "source": [
    "# Compute cost with some initial values for paramaters w, b\n",
    "initial_w = 1\n",
    "\n",
    "initial_b = 1\n",
    "\n",
    "cost = compute_cost_funtion(x_train, y_train, initial_w, initial_b)\n",
    "print(type(cost))\n",
    "print(f'Cost at initial w: {cost}')"
   ]
  },
  {
   "cell_type": "code",
   "execution_count": 58,
   "metadata": {},
   "outputs": [],
   "source": [
    "def compute_gradient_descent(x, y, w, b): \n",
    "\n",
    "    m = x.shape[0]\n",
    "    \n",
    "    dj_dw = 0\n",
    "    dj_db = 0\n",
    "    \n",
    "    for i in range(m):\n",
    "        f_wb = w * x[i] + b\n",
    "        \n",
    "        dj_dw_i = (f_wb - y[i]) * x[i]\n",
    "        \n",
    "        dj_db_i = f_wb - y[i]\n",
    "        \n",
    "        dj_db += dj_db_i\n",
    "        \n",
    "        dj_dw += dj_dw_i\n",
    "    \n",
    "    \n",
    "    dj_dw = dj_dw / m\n",
    "    dj_db = dj_db / m\n",
    "         \n",
    "        \n",
    "    return dj_dw, dj_db"
   ]
  },
  {
   "cell_type": "code",
   "execution_count": 59,
   "metadata": {},
   "outputs": [
    {
     "name": "stdout",
     "output_type": "stream",
     "text": [
      "Gradient at initial w, b (zeros): -5629055.317528736 -1942.3433908045977\n"
     ]
    }
   ],
   "source": [
    "#testing with zero variables\n",
    "\n",
    "initial_w = 0\n",
    "initial_b = 0\n",
    "\n",
    "tmp_dj_dw, tmp_dj_db = compute_gradient_descent(x_train, y_train, initial_w, initial_b)\n",
    "print('Gradient at initial w, b (zeros):', tmp_dj_dw, tmp_dj_db)"
   ]
  },
  {
   "cell_type": "code",
   "execution_count": 60,
   "metadata": {},
   "outputs": [],
   "source": [
    "def gradient_descent(x, y, w_in, b_in, cost_function, gradient_function, alpha, num_iters): \n",
    "    m = len(x)\n",
    "    \n",
    "    J_history = []\n",
    "    w_history = []\n",
    "    w = copy.deepcopy(w_in) \n",
    "    b = b_in\n",
    "    \n",
    "    for i in range(num_iters):\n",
    "\n",
    "        # Calculate the gradient and update the parameters\n",
    "        dj_dw, dj_db = gradient_function(x, y, w, b )  \n",
    "\n",
    "        # Update Parameters using w, b, alpha and gradient\n",
    "        w = w - alpha * dj_dw               \n",
    "        b = b - alpha * dj_db               \n",
    "\n",
    "        # Save cost J at each iteration\n",
    "        if i<100000:      # prevent resource exhaustion \n",
    "            cost =  cost_function(x, y, w, b)\n",
    "            J_history.append(cost)\n",
    "\n",
    "        # Print cost every at intervals 10 times or as many iterations if < 10\n",
    "        if i% math.ceil(num_iters/10) == 0:\n",
    "            w_history.append(w)\n",
    "            print(f\"Iteration {i:4}: Cost {float(J_history[-1]):8.2f}   \")\n",
    "        \n",
    "    return w, b, J_history, w_history #return w and J,w history for graphing"
   ]
  },
  {
   "cell_type": "code",
   "execution_count": 74,
   "metadata": {},
   "outputs": [
    {
     "name": "stdout",
     "output_type": "stream",
     "text": [
      "Iteration    0: Cost 79926361296063.34   \n",
      "Iteration    4: Cost 33586909693852291695024508114727545031622656.00   \n",
      "Iteration    8: Cost 14113998369732495790663157265019242851121781586606003325218547853732872192.00   \n",
      "Iteration   12: Cost 5931029433686589337291508135980527104073159127383195833916599595304038005537471609300146478296751669248.00   \n",
      "Iteration   16: Cost 2492356114954213321553135777044852781741275817491251027182396551029115503115387178836478242143541643276427913178173613627500591579136.00   \n",
      "Iteration   20: Cost 1047345839909036347222728575566098825831103955086246934662021640808332777602486415815753041132831247866038648786575964997421796738961006853560120153276651384340480.00   \n",
      "Iteration   24: Cost 440119011000525163174557521801344467291364245877378149797215116906522605654480234187241655476246394077333995216593040329588504659805901807301830136825580954748058149239465325811224404618641408.00   \n",
      "Iteration   28: Cost 184948215253238449317919692163388573569222876596119350587306799682486172926830200199869016488929368207510724590992727891588595721000952648407966906464858587117624377816878982505239998139157026300714481572470450304831193088.00   \n",
      "Iteration   32: Cost 77719529196427578345394594348633495874397885185332318867338459551237632528679200750909672454043140801385159412637882244282518731995195629824034708170466760347938524776072669048078995459971874261282358790368062596246883897122519807686011527711292391424.00   \n",
      "w,b found by gradient descent: 1.754969286423985e+122 6.137040071277467e+118\n"
     ]
    }
   ],
   "source": [
    "initial_w = 0\n",
    "initial_b = 0\n",
    "\n",
    "iterations =33\n",
    "alpha = 0.001\n",
    "\n",
    "w,b,_,_ = gradient_descent(x_train ,y_train, initial_w, initial_b, \n",
    "                     compute_cost_funtion, compute_gradient_descent, alpha, iterations)\n",
    "print(\"w,b found by gradient descent:\", w, b)"
   ]
  },
  {
   "cell_type": "markdown",
   "metadata": {},
   "source": [
    "Cost is increasing with each iteration so learning changes need to be made.\n"
   ]
  },
  {
   "cell_type": "code",
   "execution_count": 82,
   "metadata": {},
   "outputs": [
    {
     "name": "stdout",
     "output_type": "stream",
     "text": [
      "Iteration    0: Cost 53554124.48   \n",
      "Iteration   10: Cost 71353397424518799360.00   \n",
      "Iteration   20: Cost 99031512334931852715543932960768.00   \n",
      "Iteration   30: Cost 137446019241320964740698451385745332653522944.00   \n",
      "Iteration   40: Cost 190761584468117296941107535006055183872680540071614480384.00   \n",
      "Iteration   50: Cost 264758356114301769678385081075251163098019009024695234714522336886784.00   \n",
      "Iteration   60: Cost 367458612423417543269018272846099938948826349879478189232400922961446986015834112.00   \n",
      "Iteration   70: Cost 509996488216038191107547374729445744321469759428913641778405584581651350712362178001151983616.00   \n",
      "Iteration   80: Cost 707825069814897546826242065572649894059092718351678684534060116438619946353687106901445909706027783159808.00   \n",
      "Iteration   90: Cost 982391724325425348009904359170151065408971364946478307715305652496345330427418711158278288935699259874214605326647296.00   \n",
      "w,b found by gradient descent: -5.743917944507378e+60 -2.0086194592840973e+57\n"
     ]
    }
   ],
   "source": [
    "initial_w = 0\n",
    "initial_b = 0\n",
    "\n",
    "iterations =100\n",
    "alpha = 1e-6\n",
    "\n",
    "w,b,_,_ = gradient_descent(x_train ,y_train, initial_w, initial_b, \n",
    "                     compute_cost_funtion, compute_gradient_descent, alpha, iterations)\n",
    "print(\"w,b found by gradient descent:\", w, b)"
   ]
  },
  {
   "cell_type": "code",
   "execution_count": 88,
   "metadata": {},
   "outputs": [
    {
     "name": "stdout",
     "output_type": "stream",
     "text": [
      "Iteration    0: Cost 5279181.91   \n",
      "Iteration  500: Cost 4036113.29   \n",
      "Iteration 1000: Cost 3285774.27   \n",
      "Iteration 1500: Cost 2832855.88   \n",
      "Iteration 2000: Cost 2559466.03   \n",
      "Iteration 2500: Cost 2394442.91   \n",
      "Iteration 3000: Cost 2294831.92   \n",
      "Iteration 3500: Cost 2234704.90   \n",
      "Iteration 4000: Cost 2198411.13   \n",
      "Iteration 4500: Cost 2176503.55   \n",
      "w,b found by gradient descent: 1.0259812651663098 0.00034572594259980264\n"
     ]
    }
   ],
   "source": [
    "initial_w = 0\n",
    "initial_b = 0\n",
    "\n",
    "iterations =5000\n",
    "alpha = 1e-10\n",
    "\n",
    "w,b,_,_ = gradient_descent(x_train ,y_train, initial_w, initial_b, \n",
    "                     compute_cost_funtion, compute_gradient_descent, alpha, iterations)\n",
    "print(\"w,b found by gradient descent:\", w, b)"
   ]
  },
  {
   "cell_type": "markdown",
   "metadata": {},
   "source": [
    "I am happy that I have found a learning rate which decreases over time, so now we experiment with iterations."
   ]
  },
  {
   "cell_type": "code",
   "execution_count": 89,
   "metadata": {},
   "outputs": [
    {
     "name": "stdout",
     "output_type": "stream",
     "text": [
      "Iteration    0: Cost 5279181.91   \n",
      "Iteration 5000: Cost 2163279.73   \n",
      "Iteration 10000: Cost 2143271.53   \n",
      "Iteration 15000: Cost 2143143.05   \n",
      "Iteration 20000: Cost 2143142.22   \n",
      "Iteration 25000: Cost 2143142.22   \n",
      "Iteration 30000: Cost 2143142.22   \n",
      "Iteration 35000: Cost 2143142.21   \n",
      "Iteration 40000: Cost 2143142.21   \n",
      "Iteration 45000: Cost 2143142.21   \n",
      "w,b found by gradient descent: 1.1153584724432386 0.00025948951694606496\n"
     ]
    }
   ],
   "source": [
    "initial_w = 0\n",
    "initial_b = 0\n",
    "\n",
    "iterations =50000\n",
    "alpha = 1e-10\n",
    "\n",
    "w,b,_,_ = gradient_descent(x_train ,y_train, initial_w, initial_b, \n",
    "                     compute_cost_funtion, compute_gradient_descent, alpha, iterations)\n",
    "print(\"w,b found by gradient descent:\", w, b)"
   ]
  },
  {
   "cell_type": "markdown",
   "metadata": {},
   "source": [
    "Clearly too many but optimisation.."
   ]
  },
  {
   "cell_type": "code",
   "execution_count": 90,
   "metadata": {},
   "outputs": [
    {
     "name": "stdout",
     "output_type": "stream",
     "text": [
      "Iteration    0: Cost 5279181.91   \n",
      "Iteration 2000: Cost 2559466.03   \n",
      "Iteration 4000: Cost 2198411.13   \n",
      "Iteration 6000: Cost 2150479.42   \n",
      "Iteration 8000: Cost 2144116.26   \n",
      "Iteration 10000: Cost 2143271.53   \n",
      "Iteration 12000: Cost 2143159.38   \n",
      "Iteration 14000: Cost 2143144.50   \n",
      "Iteration 16000: Cost 2143142.52   \n",
      "Iteration 18000: Cost 2143142.26   \n",
      "w,b found by gradient descent: 1.1153124551118203 0.0003378008619573841\n"
     ]
    }
   ],
   "source": [
    "initial_w = 0\n",
    "initial_b = 0\n",
    "\n",
    "iterations =20000\n",
    "alpha = 1e-10\n",
    "\n",
    "w,b,_,_ = gradient_descent(x_train ,y_train, initial_w, initial_b, \n",
    "                     compute_cost_funtion, compute_gradient_descent, alpha, iterations)\n",
    "print(\"w,b found by gradient descent:\", w, b)"
   ]
  },
  {
   "cell_type": "markdown",
   "metadata": {},
   "source": [
    "Looks like we have a solution of w = 1.115 and b = 0.0003.  I will now attempt to draw the line from this on top of the training dataset."
   ]
  },
  {
   "cell_type": "code",
   "execution_count": 95,
   "metadata": {},
   "outputs": [],
   "source": [
    "m = x_train.shape[0]\n",
    "predicted = np.zeros(m)\n",
    "\n",
    "for i in range(m):\n",
    "    predicted[i] = w * x_train[i] + b\n"
   ]
  },
  {
   "cell_type": "code",
   "execution_count": 97,
   "metadata": {},
   "outputs": [
    {
     "data": {
      "image/png": "[encoded data removed]",
      "text/plain": [
       "<Figure size 640x480 with 1 Axes>"
      ]
     },
     "metadata": {},
     "output_type": "display_data"
    }
   ],
   "source": [
    "plt.plot(x_train, predicted, c = \"b\")\n",
    "\n",
    "plt.scatter(x_train, y_train, marker='x', c='r') \n",
    "\n",
    "plt.title('Distribution of London House Prices')\n",
    "plt.ylabel('Prices of properties in million GBP')\n",
    "plt.xlabel('Area of property in sq ft')\n",
    "plt.show()\n"
   ]
  },
  {
   "cell_type": "markdown",
   "metadata": {},
   "source": [
    "Graph above looks like we have a believeable trend line based on the relationship of these two factors."
   ]
  },
  {
   "cell_type": "markdown",
   "metadata": {},
   "source": [
    "I will now try to test my values of w,b against the remainiing test data that I have so far not used.."
   ]
  },
  {
   "cell_type": "code",
   "execution_count": 98,
   "metadata": {},
   "outputs": [],
   "source": [
    "x_test = test['Area in sq ft'].to_numpy()\n",
    "y_test = test['Price'].to_numpy()"
   ]
  },
  {
   "cell_type": "code",
   "execution_count": 101,
   "metadata": {},
   "outputs": [
    {
     "name": "stdout",
     "output_type": "stream",
     "text": [
      "Model Summary Statistics:\n",
      "Number of examples: 2784\n",
      "Number of features: 1\n",
      "\n",
      "Prediction Statistics:\n",
      "Mean prediction: 1896.0335\n",
      "Median prediction: 1444.3300\n",
      "Min prediction: 325.6716\n",
      "Max prediction: 17181.3887\n",
      "\n",
      "Error Metrics:\n",
      "Mean Squared Error (MSE): 2491058.8280\n",
      "Root Mean Squared Error (RMSE): 1578.3089\n",
      "Mean Absolute Error (MAE): 794.0769\n",
      "R-squared (R2) Score: 0.4727\n",
      "\n",
      "Error Statistics:\n",
      "Mean error: 51.4006\n",
      "Median error: 207.6001\n",
      "Min error: -25302.7931\n",
      "Max error: 8854.3164\n"
     ]
    }
   ],
   "source": [
    "\n",
    "def test_model(X, w, b, y=None):\n",
    "\n",
    "    X = X.reshape(-1, 1)\n",
    "    w = np.array([w])\n",
    "    m = X.shape[0]  # number of examples\n",
    "    \n",
    "    predictions = np.dot(X, w) + b\n",
    "    \n",
    "    print(\"Model Summary Statistics:\")\n",
    "    print(f\"Number of examples: {X.shape[0]}\")\n",
    "    print(f\"Number of features: {X.shape[1]}\")\n",
    "    \n",
    "    print(\"\\nPrediction Statistics:\")\n",
    "    print(f\"Mean prediction: {np.mean(predictions):.4f}\")\n",
    "    print(f\"Median prediction: {np.median(predictions):.4f}\")\n",
    "    print(f\"Min prediction: {np.min(predictions):.4f}\")\n",
    "    print(f\"Max prediction: {np.max(predictions):.4f}\")\n",
    "    \n",
    "    if y is not None:\n",
    "        errors = predictions - y\n",
    "        mse = np.mean(errors**2)\n",
    "        rmse = np.sqrt(mse)\n",
    "        mae = np.mean(np.abs(errors))\n",
    "        r2 = 1 - (np.sum(errors**2) / np.sum((y - np.mean(y))**2))\n",
    "        \n",
    "        print(\"\\nError Metrics:\")\n",
    "        print(f\"Mean Squared Error (MSE): {mse:.4f}\")\n",
    "        print(f\"Root Mean Squared Error (RMSE): {rmse:.4f}\")\n",
    "        print(f\"Mean Absolute Error (MAE): {mae:.4f}\")\n",
    "        print(f\"R-squared (R2) Score: {r2:.4f}\")\n",
    "        \n",
    "        print(\"\\nError Statistics:\")\n",
    "        print(f\"Mean error: {np.mean(errors):.4f}\")\n",
    "        print(f\"Median error: {np.median(errors):.4f}\")\n",
    "        print(f\"Min error: {np.min(errors):.4f}\")\n",
    "        print(f\"Max error: {np.max(errors):.4f}\")\n",
    "    \n",
    "    return predictions\n",
    "\n",
    "\n",
    "predictions = test_model(x_test, w, b, y_test)"
   ]
  },
  {
   "cell_type": "markdown",
   "metadata": {},
   "source": [
    "All of these error metrics show that this model is not very good at predicting house prices in London.  However, this is to be expected because the data is not going to be very well correlated given the fact some are flats, area diffences and potentially time differences between sold prices."
   ]
  },
  {
   "cell_type": "markdown",
   "metadata": {},
   "source": [
    "I think I will try to do the same analysis again but with more features and differential the data in some way before processing the regression."
   ]
  }
 ],
 "metadata": {
  "kernelspec": {
   "display_name": "Python 3",
   "language": "python",
   "name": "python3"
  },
  "language_info": {
   "codemirror_mode": {
    "name": "ipython",
    "version": 3
   },
   "file_extension": ".py",
   "mimetype": "text/x-python",
   "name": "python",
   "nbconvert_exporter": "python",
   "pygments_lexer": "ipython3",
   "version": "3.11.1"
  }
 },
 "nbformat": 4,
 "nbformat_minor": 2
}
